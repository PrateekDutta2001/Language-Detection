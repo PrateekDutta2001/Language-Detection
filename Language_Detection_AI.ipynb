{
  "cells": [
    {
      "cell_type": "markdown",
      "id": "d273af9c",
      "metadata": {
        "id": "d273af9c",
        "papermill": {
          "duration": 0.016174,
          "end_time": "2022-05-02T17:56:08.913399",
          "exception": false,
          "start_time": "2022-05-02T17:56:08.897225",
          "status": "completed"
        },
        "tags": []
      },
      "source": [
        "> # Language Detection Artificial Intelligence Software - By Prateek Dutta"
      ]
    },
    {
      "cell_type": "markdown",
      "id": "b59e960a",
      "metadata": {
        "id": "b59e960a",
        "papermill": {
          "duration": 0.014113,
          "end_time": "2022-05-02T17:56:08.942929",
          "exception": false,
          "start_time": "2022-05-02T17:56:08.928816",
          "status": "completed"
        },
        "tags": []
      },
      "source": [
        "It is an NLP system. The sensitivity score is quite high and the accuracy score is in a very advantageous position. It has 97% accuracy and 98.4% sensitivity score. I share Dataset and Artificial Intelligence Software as open source. I used the Ridge Classifier algorithm and manipulated the dataset to improve the algorithm. In this way, the sensitivity rate and score of the software has been increased. In addition, I adapted the data according to the algorithm and made the algorithm work. In this study, it was studied on the data, not on the algorithm.\n",
        "\n",
        "\n",
        "###**The coding language used:**\n",
        "\n",
        "`Python 3.9.8`\n",
        "\n",
        "###**Libraries Used:**\n",
        "\n",
        "`NumPy`\n",
        "\n",
        "`Pandas`\n",
        "\n",
        "`Scikit-learn (SKLEARN)`\n",
        "     \n",
        "### **Creator Information:**\n",
        "\n",
        "Name-Surname: **Prateek Dutta**\n",
        "\n",
        "Contact (Email) : **prateekdutta2001@gmail.com**\n",
        "\n",
        "LinkedIn : **[https://www.linkedin.com/in/prateek-dutta-3622821a1/][LinkedinAccount]**\n",
        "\n",
        "[LinkedinAccount]: https://www.linkedin.com/in/prateek-dutta-3622821a1/\n",
        "\n",
        "\n",
        "Official Website: **[https://prateekduttaportfolio.wordpress.com/][OfficialWebSite]**\n",
        "\n",
        "[OfficialWebSite]: https://prateekduttaportfolio.wordpress.com/\n"
      ]
    },
    {
      "cell_type": "code",
      "source": [
        "from google.colab import drive\n",
        "drive.mount('/gdrive/')\n",
        "%cd /gdrive"
      ],
      "metadata": {
        "id": "zDgAII27WjEZ",
        "colab": {
          "base_uri": "https://localhost:8080/"
        },
        "outputId": "e23028d3-114f-4dc8-e3fa-68d416237ac8"
      },
      "id": "zDgAII27WjEZ",
      "execution_count": 1,
      "outputs": [
        {
          "output_type": "stream",
          "name": "stdout",
          "text": [
            "Mounted at /gdrive/\n",
            "/gdrive\n"
          ]
        }
      ]
    },
    {
      "cell_type": "code",
      "source": [
        "ls"
      ],
      "metadata": {
        "id": "r6mvzOobWjBQ",
        "colab": {
          "base_uri": "https://localhost:8080/"
        },
        "outputId": "9eb9c375-0f8d-458c-dc62-c55379ba841b"
      },
      "id": "r6mvzOobWjBQ",
      "execution_count": 2,
      "outputs": [
        {
          "output_type": "stream",
          "name": "stdout",
          "text": [
            "\u001b[0m\u001b[01;34mMyDrive\u001b[0m/  \u001b[01;34mShareddrives\u001b[0m/\n"
          ]
        }
      ]
    },
    {
      "cell_type": "code",
      "source": [
        "cd/gdrive/MyDrive/Language Detection/"
      ],
      "metadata": {
        "id": "86Frb48iWnF4",
        "colab": {
          "base_uri": "https://localhost:8080/"
        },
        "outputId": "d2402e32-e337-4c3e-d56b-4e0c50b85bf5"
      },
      "id": "86Frb48iWnF4",
      "execution_count": 3,
      "outputs": [
        {
          "output_type": "stream",
          "name": "stdout",
          "text": [
            "/gdrive/MyDrive/Language Detection\n"
          ]
        }
      ]
    },
    {
      "cell_type": "code",
      "source": [
        "ls"
      ],
      "metadata": {
        "id": "cwXRIXiOWryC",
        "colab": {
          "base_uri": "https://localhost:8080/"
        },
        "outputId": "13c6a4ef-7265-4007-8449-0c8ec0f5eed8"
      },
      "id": "cwXRIXiOWryC",
      "execution_count": 4,
      "outputs": [
        {
          "output_type": "stream",
          "name": "stdout",
          "text": [
            " Language_Detection_Artificial_Intelligence_Software.ipynb\n",
            "'Language Detection Artificial Intelligence Software.png'\n",
            " language_detection_artificial_intelligence_software.py\n",
            " language_detection.csv\n",
            " LICENSE\n",
            " README.md\n"
          ]
        }
      ]
    },
    {
      "cell_type": "code",
      "execution_count": 5,
      "id": "e8000e0f",
      "metadata": {
        "execution": {
          "iopub.execute_input": "2022-05-02T17:56:09.007146Z",
          "iopub.status.busy": "2022-05-02T17:56:09.006265Z",
          "iopub.status.idle": "2022-05-02T17:56:10.650880Z",
          "shell.execute_reply": "2022-05-02T17:56:10.649996Z"
        },
        "id": "e8000e0f",
        "papermill": {
          "duration": 1.664105,
          "end_time": "2022-05-02T17:56:10.653307",
          "exception": false,
          "start_time": "2022-05-02T17:56:08.989202",
          "status": "completed"
        },
        "tags": []
      },
      "outputs": [],
      "source": [
        "import pandas as pd\n",
        "import numpy as np\n",
        "from sklearn.model_selection import train_test_split\n",
        "from sklearn.feature_extraction.text import CountVectorizer, TfidfTransformer"
      ]
    },
    {
      "cell_type": "code",
      "source": [
        "data = pd.read_csv('/gdrive/MyDrive/Language Detection/language_detection.csv')\n",
        "data.head(5)"
      ],
      "metadata": {
        "colab": {
          "base_uri": "https://localhost:8080/",
          "height": 206
        },
        "id": "j3_KoAhiaZcY",
        "outputId": "e526a862-20ee-492f-abc7-1e651547bbbb"
      },
      "id": "j3_KoAhiaZcY",
      "execution_count": 7,
      "outputs": [
        {
          "output_type": "execute_result",
          "data": {
            "text/plain": [
              "                                                Text  language\n",
              "0  klement gottwaldi surnukeha palsameeriti ning ...  Estonian\n",
              "1  sebes joseph pereira thomas  på eng the jesuit...   Swedish\n",
              "2  ถนนเจริญกรุง อักษรโรมัน thanon charoen krung เ...      Thai\n",
              "3  விசாகப்பட்டினம் தமிழ்ச்சங்கத்தை இந்துப் பத்திர...     Tamil\n",
              "4  de spons behoort tot het geslacht haliclona en...     Dutch"
            ],
            "text/html": [
              "\n",
              "  <div id=\"df-0d58e82b-aeb6-4b1c-9c5a-7cfab9a37d9c\">\n",
              "    <div class=\"colab-df-container\">\n",
              "      <div>\n",
              "<style scoped>\n",
              "    .dataframe tbody tr th:only-of-type {\n",
              "        vertical-align: middle;\n",
              "    }\n",
              "\n",
              "    .dataframe tbody tr th {\n",
              "        vertical-align: top;\n",
              "    }\n",
              "\n",
              "    .dataframe thead th {\n",
              "        text-align: right;\n",
              "    }\n",
              "</style>\n",
              "<table border=\"1\" class=\"dataframe\">\n",
              "  <thead>\n",
              "    <tr style=\"text-align: right;\">\n",
              "      <th></th>\n",
              "      <th>Text</th>\n",
              "      <th>language</th>\n",
              "    </tr>\n",
              "  </thead>\n",
              "  <tbody>\n",
              "    <tr>\n",
              "      <th>0</th>\n",
              "      <td>klement gottwaldi surnukeha palsameeriti ning ...</td>\n",
              "      <td>Estonian</td>\n",
              "    </tr>\n",
              "    <tr>\n",
              "      <th>1</th>\n",
              "      <td>sebes joseph pereira thomas  på eng the jesuit...</td>\n",
              "      <td>Swedish</td>\n",
              "    </tr>\n",
              "    <tr>\n",
              "      <th>2</th>\n",
              "      <td>ถนนเจริญกรุง อักษรโรมัน thanon charoen krung เ...</td>\n",
              "      <td>Thai</td>\n",
              "    </tr>\n",
              "    <tr>\n",
              "      <th>3</th>\n",
              "      <td>விசாகப்பட்டினம் தமிழ்ச்சங்கத்தை இந்துப் பத்திர...</td>\n",
              "      <td>Tamil</td>\n",
              "    </tr>\n",
              "    <tr>\n",
              "      <th>4</th>\n",
              "      <td>de spons behoort tot het geslacht haliclona en...</td>\n",
              "      <td>Dutch</td>\n",
              "    </tr>\n",
              "  </tbody>\n",
              "</table>\n",
              "</div>\n",
              "      <button class=\"colab-df-convert\" onclick=\"convertToInteractive('df-0d58e82b-aeb6-4b1c-9c5a-7cfab9a37d9c')\"\n",
              "              title=\"Convert this dataframe to an interactive table.\"\n",
              "              style=\"display:none;\">\n",
              "        \n",
              "  <svg xmlns=\"http://www.w3.org/2000/svg\" height=\"24px\"viewBox=\"0 0 24 24\"\n",
              "       width=\"24px\">\n",
              "    <path d=\"M0 0h24v24H0V0z\" fill=\"none\"/>\n",
              "    <path d=\"M18.56 5.44l.94 2.06.94-2.06 2.06-.94-2.06-.94-.94-2.06-.94 2.06-2.06.94zm-11 1L8.5 8.5l.94-2.06 2.06-.94-2.06-.94L8.5 2.5l-.94 2.06-2.06.94zm10 10l.94 2.06.94-2.06 2.06-.94-2.06-.94-.94-2.06-.94 2.06-2.06.94z\"/><path d=\"M17.41 7.96l-1.37-1.37c-.4-.4-.92-.59-1.43-.59-.52 0-1.04.2-1.43.59L10.3 9.45l-7.72 7.72c-.78.78-.78 2.05 0 2.83L4 21.41c.39.39.9.59 1.41.59.51 0 1.02-.2 1.41-.59l7.78-7.78 2.81-2.81c.8-.78.8-2.07 0-2.86zM5.41 20L4 18.59l7.72-7.72 1.47 1.35L5.41 20z\"/>\n",
              "  </svg>\n",
              "      </button>\n",
              "      \n",
              "  <style>\n",
              "    .colab-df-container {\n",
              "      display:flex;\n",
              "      flex-wrap:wrap;\n",
              "      gap: 12px;\n",
              "    }\n",
              "\n",
              "    .colab-df-convert {\n",
              "      background-color: #E8F0FE;\n",
              "      border: none;\n",
              "      border-radius: 50%;\n",
              "      cursor: pointer;\n",
              "      display: none;\n",
              "      fill: #1967D2;\n",
              "      height: 32px;\n",
              "      padding: 0 0 0 0;\n",
              "      width: 32px;\n",
              "    }\n",
              "\n",
              "    .colab-df-convert:hover {\n",
              "      background-color: #E2EBFA;\n",
              "      box-shadow: 0px 1px 2px rgba(60, 64, 67, 0.3), 0px 1px 3px 1px rgba(60, 64, 67, 0.15);\n",
              "      fill: #174EA6;\n",
              "    }\n",
              "\n",
              "    [theme=dark] .colab-df-convert {\n",
              "      background-color: #3B4455;\n",
              "      fill: #D2E3FC;\n",
              "    }\n",
              "\n",
              "    [theme=dark] .colab-df-convert:hover {\n",
              "      background-color: #434B5C;\n",
              "      box-shadow: 0px 1px 3px 1px rgba(0, 0, 0, 0.15);\n",
              "      filter: drop-shadow(0px 1px 2px rgba(0, 0, 0, 0.3));\n",
              "      fill: #FFFFFF;\n",
              "    }\n",
              "  </style>\n",
              "\n",
              "      <script>\n",
              "        const buttonEl =\n",
              "          document.querySelector('#df-0d58e82b-aeb6-4b1c-9c5a-7cfab9a37d9c button.colab-df-convert');\n",
              "        buttonEl.style.display =\n",
              "          google.colab.kernel.accessAllowed ? 'block' : 'none';\n",
              "\n",
              "        async function convertToInteractive(key) {\n",
              "          const element = document.querySelector('#df-0d58e82b-aeb6-4b1c-9c5a-7cfab9a37d9c');\n",
              "          const dataTable =\n",
              "            await google.colab.kernel.invokeFunction('convertToInteractive',\n",
              "                                                     [key], {});\n",
              "          if (!dataTable) return;\n",
              "\n",
              "          const docLinkHtml = 'Like what you see? Visit the ' +\n",
              "            '<a target=\"_blank\" href=https://colab.research.google.com/notebooks/data_table.ipynb>data table notebook</a>'\n",
              "            + ' to learn more about interactive tables.';\n",
              "          element.innerHTML = '';\n",
              "          dataTable['output_type'] = 'display_data';\n",
              "          await google.colab.output.renderOutput(dataTable, element);\n",
              "          const docLink = document.createElement('div');\n",
              "          docLink.innerHTML = docLinkHtml;\n",
              "          element.appendChild(docLink);\n",
              "        }\n",
              "      </script>\n",
              "    </div>\n",
              "  </div>\n",
              "  "
            ]
          },
          "metadata": {},
          "execution_count": 7
        }
      ]
    },
    {
      "cell_type": "markdown",
      "id": "debc085e",
      "metadata": {
        "id": "debc085e",
        "papermill": {
          "duration": 0.014722,
          "end_time": "2022-05-02T17:56:10.684218",
          "exception": false,
          "start_time": "2022-05-02T17:56:10.669496",
          "status": "completed"
        },
        "tags": []
      },
      "source": [
        "### Value Counts of Language Label"
      ]
    },
    {
      "cell_type": "code",
      "execution_count": 8,
      "id": "54c2a595",
      "metadata": {
        "execution": {
          "iopub.execute_input": "2022-05-02T17:56:10.716086Z",
          "iopub.status.busy": "2022-05-02T17:56:10.715780Z",
          "iopub.status.idle": "2022-05-02T17:56:10.732322Z",
          "shell.execute_reply": "2022-05-02T17:56:10.731572Z"
        },
        "id": "54c2a595",
        "outputId": "c8051938-8086-4fd0-bf12-984ee546267a",
        "papermill": {
          "duration": 0.035026,
          "end_time": "2022-05-02T17:56:10.734298",
          "exception": false,
          "start_time": "2022-05-02T17:56:10.699272",
          "status": "completed"
        },
        "tags": [],
        "colab": {
          "base_uri": "https://localhost:8080/"
        }
      },
      "outputs": [
        {
          "output_type": "execute_result",
          "data": {
            "text/plain": [
              "Estonian      1000\n",
              "Swedish       1000\n",
              "English       1000\n",
              "Russian       1000\n",
              "Romanian      1000\n",
              "Persian       1000\n",
              "Pushto        1000\n",
              "Spanish       1000\n",
              "Hindi         1000\n",
              "Korean        1000\n",
              "Chinese       1000\n",
              "French        1000\n",
              "Portugese     1000\n",
              "Indonesian    1000\n",
              "Urdu          1000\n",
              "Latin         1000\n",
              "Turkish       1000\n",
              "Japanese      1000\n",
              "Dutch         1000\n",
              "Tamil         1000\n",
              "Thai          1000\n",
              "Arabic        1000\n",
              "Name: language, dtype: int64"
            ]
          },
          "metadata": {},
          "execution_count": 8
        }
      ],
      "source": [
        "data[\"language\"].value_counts()"
      ]
    },
    {
      "cell_type": "markdown",
      "id": "9564ffcc",
      "metadata": {
        "id": "9564ffcc",
        "papermill": {
          "duration": 0.015044,
          "end_time": "2022-05-02T17:56:10.765564",
          "exception": false,
          "start_time": "2022-05-02T17:56:10.750520",
          "status": "completed"
        },
        "tags": []
      },
      "source": [
        "### Value Counts of Text Feature"
      ]
    },
    {
      "cell_type": "code",
      "execution_count": 9,
      "id": "3766f704",
      "metadata": {
        "execution": {
          "iopub.execute_input": "2022-05-02T17:56:10.798611Z",
          "iopub.status.busy": "2022-05-02T17:56:10.797628Z",
          "iopub.status.idle": "2022-05-02T17:56:10.834200Z",
          "shell.execute_reply": "2022-05-02T17:56:10.833295Z"
        },
        "id": "3766f704",
        "outputId": "3e7255b2-6f65-482a-cbcd-56a1a3511075",
        "papermill": {
          "duration": 0.055235,
          "end_time": "2022-05-02T17:56:10.836148",
          "exception": false,
          "start_time": "2022-05-02T17:56:10.780913",
          "status": "completed"
        },
        "tags": [],
        "colab": {
          "base_uri": "https://localhost:8080/"
        }
      },
      "outputs": [
        {
          "output_type": "execute_result",
          "data": {
            "text/plain": [
              "haec commentatio automatice praeparata res astronomicas colligit excerptas e pagina [] sitús small-body database quem elaboraverunt nasa et jpl apud institutum technologiae californiense                                                                                                                                                                                                                                                                                                                                                                                                                                                                                                                                                                                                                                                                                                                                                                                    48\n",
              "இக்கோயில் முதன்மைத் திருக்கோயில் என்ற வகைப்பாட்டில் இந்து அறநிலையத்துறையின் கட்டுப்பாட்டில் உள்ளது பரம்பரை அல்லாத அறங்காவலர் அமைப்பால் நிர்வகிக்கப்படுகிறது                                                                                                                                                                                                                                                                                                                                                                                                                                                                                                                                                                                                                                                                                                                                                                                                                   17\n",
              "bisby fa roskov yr orrell tm nicolson d paglinawan le bailly n kirk pm bourgoin t baillargeon g ouvrard d red  \"species   itis catalogue of life  annual checklist\" species  reading uk diakses pada  september                                                                                                                                                                                                                                                                                                                                                                                                                                                                                                                                                                                                                                                                                                                                                               12\n",
              "seperti asteroid pada umumnya asteroid ini terbentuk dari nebula matahari primordial sebagai pecahan planetisimal sesuatu di nebula matahari muda yang tidak cukup besar untuk berubah menjadi planet                                                                                                                                                                                                                                                                                                                                                                                                                                                                                                                                                                                                                                                                                                                                                                          7\n",
              "lévolution du nombre dhabitants est connue à travers les recensements de la population effectués dans la commune depuis  à partir de  les populations légales des communes sont publiées annuellement par linsee le recensement repose désormais sur une collecte dinformation annuelle concernant successivement tous les territoires communaux au cours dune période de cinq ans pour les communes de moins de   habitants une enquête de recensement portant sur toute la population est réalisée tous les cinq ans les populations légales des années intermédiaires étant quant à elles estimées par interpolation ou extrapolation pour la commune le premier recensement exhaustif entrant dans le cadre du nouveau dispositif a été réalisé en                                                                                                                                                                                                                         7\n",
              "                                                                                                                                                                                                                                                                                                                                                                                                                                                                                                                                                                                                                                                                                                                                                                                                                                                                                                                                                                              ..\n",
              "in  zette hij het project swiss piano op waarin pianowerk van hedendaagse zwitserse componisten uitgevoerd wordt het project resulteerde onder andere in een cd met nieuw aan wong opgedragen werk van daniel füter hans ulrich lehmann laurent mettraux isabel mundry jürg wyttenbach gérard zinsstag en alfred zimmerlin                                                                                                                                                                                                                                                                                                                                                                                                                                                                                                                                                                                                                                                     1\n",
              "nacido en duisburgo alemania caninenberg estudió en los primeros años  en la folkwang universität der künste de essen y tras graduarse actuó por vez primera en teatros de krefeld gießen y wuppertal tras servir durante la segunda guerra mundial hubo de cumplir cautiverio y en  retomó su carrera artística de vuelta en wuppertal colaboró en la reconstrucción teatral y en  fue a trabajar a la ópera estatal de stuttgart en  fue contratado por el prestigioso actor y director hans schweikart para actuar en el teatro de cámara de múnich pero pronto se trasladó a düsseldorf boleslaw barlog contó con él para actuar en el staatlichen berliner bühnen y en fráncfort del meno actuó junto a lola müthel con la que se casó en                                                                                                                                                                                                                                 1\n",
              "بچوں کی سائنس میں آسان مقالہ  انسانی دماغ* یہ مضمون عمومی طور پر دماغ کے بارے میں ہے۔ بالخصوص انسانی دماغ کے بارے میں دیکھیےدماغ انسانیدماغ دراصل مرکزی عصبی نظام کا ایک ایسا حصہ ہوتا ہے جسمیں عصبی نظام کے تمام اعلیٰ مراکز پائے جاتے ہیں۔ اکثر جانداروں میں دماغ سر میں موجود ایک ہڈی کے صندوق میں محفوظ ہوتا ہے جسے کاسہ سر یا کھوپڑی کہتے ہیں اور چار بنیادی حسیں بصارت سماعت ذائقہ اور سونگھنا اسکے بالکل قرب و جوار میں ملتی ہیں۔ فقاریہ جانداروں مثلا انسان کے عصبی نظام میں تو دماغ پایاجاتا ہے مگر غیرفقاریہ جانداروں میں عصبی نظام دراصل عصبی عقدوں یا یوں کہـ لیں کہ عصبی خلیات کی چھوٹی چھوٹی گرھوں پر مشتمل ہوتا ہے۔ دماغ ایک انتہائی پیچیدہ عضو ہے اس بات کا اندازا یوں لگایا جاسکتا ہے کہ ایک دماغ میں تقریباًً  ارب  ایک کھرب خلیات پائے جاتے ہیں یہاں یہ بات واضع رہے کہ یہ صرف ان خلیات کی تعداد ہے جنکو عصبون یا neuron کہا جاتا ہے۔ اور پھر ان  ارب خلیات میں سے بھی ہر ایک  عصبی تاروں یا ریشوں کے ذریعہ تقریباً  دیگر خلیات کے ساتھ رابطے بناتا ہے۔     1\n",
              "바그너의 행운은 년에 바이에른 왕국의 루트비히 세가 나이 세로 즉위하자 극적인 계기를 맞았다 젊은 왕은 어린 시절부터 바그너의 오페라의 열렬한 숭배자였기에 작곡가를 뮌헨으로 데려왔다 그는 바그너의 상당한 빚을 해결해 주었고 그의 새 오페라가 상연될 계획을 세웠다 리허설에서의 각고의 어려움 끝에 트리스탄과 이졸데는 뮌헨 왕립 극장에서 년 월 일에 큰 성공을 거두며 초연되었다                                                                                                                                                                                                                                                                                                                                                                                                                                                                                                                                                                                                                                                                                                                                                              1\n",
              " aprilie sonda spațială messenger a nasa și-a încheiat misiunea de studiu de  ani prăbușindu-se pe suprafața planetei mercur sonda a rămas fără combustibil fiind împinsă de gravitația solară din ce în ce mai aproape de mercur                                                                                                                                                                                                                                                                                                                                                                                                                                                                                                                                                                                                                                                                                                                                              1\n",
              "Name: Text, Length: 21859, dtype: int64"
            ]
          },
          "metadata": {},
          "execution_count": 9
        }
      ],
      "source": [
        "data[\"Text\"].value_counts()"
      ]
    },
    {
      "cell_type": "markdown",
      "id": "905f4345",
      "metadata": {
        "id": "905f4345",
        "papermill": {
          "duration": 0.015571,
          "end_time": "2022-05-02T17:56:10.867940",
          "exception": false,
          "start_time": "2022-05-02T17:56:10.852369",
          "status": "completed"
        },
        "tags": []
      },
      "source": [
        "> # *Process*\n",
        "> * **Import to ML (scikit-learn) Libraries**\n",
        "> * **Data Preprocessing**\n",
        "> * **NLP system entegration to Data**\n",
        "> * **Model Creating**"
      ]
    },
    {
      "cell_type": "code",
      "execution_count": 10,
      "id": "e0db95ad",
      "metadata": {
        "execution": {
          "iopub.execute_input": "2022-05-02T17:56:10.901571Z",
          "iopub.status.busy": "2022-05-02T17:56:10.901243Z",
          "iopub.status.idle": "2022-05-02T17:56:27.509117Z",
          "shell.execute_reply": "2022-05-02T17:56:27.508164Z"
        },
        "id": "e0db95ad",
        "outputId": "1dbc9190-a791-4a3e-fb30-26a2d1e118ed",
        "papermill": {
          "duration": 16.629206,
          "end_time": "2022-05-02T17:56:27.513136",
          "exception": false,
          "start_time": "2022-05-02T17:56:10.883930",
          "status": "completed"
        },
        "tags": [],
        "colab": {
          "base_uri": "https://localhost:8080/"
        }
      },
      "outputs": [
        {
          "output_type": "execute_result",
          "data": {
            "text/plain": [
              "RidgeClassifier()"
            ]
          },
          "metadata": {},
          "execution_count": 10
        }
      ],
      "source": [
        "#Import to ML (scikit-learn) Libraries\n",
        "from sklearn.linear_model import RidgeClassifier #RidgeClassifier\n",
        "\n",
        "#Data Preprocessing\n",
        "X_train, X_test, y_train, y_test = train_test_split(data.Text, \n",
        "                                                    data.language,\n",
        "                                                    test_size=0.325000000000000001,\n",
        "                                                    random_state=2551,\n",
        "                                                    shuffle=True)\n",
        "#NLP system entegration to Data    \n",
        "X_CountVectorizer = CountVectorizer(stop_words='english')\n",
        "\n",
        "X_train_counts = X_CountVectorizer.fit_transform(X_train)\n",
        "\n",
        "X_TfidfTransformer = TfidfTransformer()\n",
        "\n",
        "X_train_tfidf = X_TfidfTransformer.fit_transform(X_train_counts)\n",
        "\n",
        "#Model Creating\n",
        "model = RidgeClassifier()\n",
        "\n",
        "model.fit(X_train_tfidf, y_train)"
      ]
    },
    {
      "cell_type": "markdown",
      "id": "c72de929",
      "metadata": {
        "id": "c72de929",
        "papermill": {
          "duration": 0.032276,
          "end_time": "2022-05-02T17:56:27.575922",
          "exception": false,
          "start_time": "2022-05-02T17:56:27.543646",
          "status": "completed"
        },
        "tags": []
      },
      "source": [
        "> # *Model Accuracy Score*\n",
        "> * **model.score([Test_data])**"
      ]
    },
    {
      "cell_type": "code",
      "execution_count": 11,
      "id": "c7dc8090",
      "metadata": {
        "execution": {
          "iopub.execute_input": "2022-05-02T17:56:27.627582Z",
          "iopub.status.busy": "2022-05-02T17:56:27.627294Z",
          "iopub.status.idle": "2022-05-02T17:56:28.252822Z",
          "shell.execute_reply": "2022-05-02T17:56:28.251998Z"
        },
        "id": "c7dc8090",
        "outputId": "24e164d5-d9ef-463e-a01b-667741fbdebd",
        "papermill": {
          "duration": 0.646868,
          "end_time": "2022-05-02T17:56:28.255014",
          "exception": false,
          "start_time": "2022-05-02T17:56:27.608146",
          "status": "completed"
        },
        "tags": [],
        "colab": {
          "base_uri": "https://localhost:8080/"
        }
      },
      "outputs": [
        {
          "output_type": "execute_result",
          "data": {
            "text/plain": [
              "0.9651748251748252"
            ]
          },
          "metadata": {},
          "execution_count": 11
        }
      ],
      "source": [
        "model.score(X_CountVectorizer.transform(X_test),y_test)"
      ]
    },
    {
      "cell_type": "markdown",
      "id": "6974d967",
      "metadata": {
        "id": "6974d967",
        "papermill": {
          "duration": 0.017828,
          "end_time": "2022-05-02T17:56:28.290678",
          "exception": false,
          "start_time": "2022-05-02T17:56:28.272850",
          "status": "completed"
        },
        "tags": []
      },
      "source": [
        "> # *Prediction*"
      ]
    },
    {
      "cell_type": "code",
      "execution_count": 12,
      "id": "60f4c92c",
      "metadata": {
        "execution": {
          "iopub.execute_input": "2022-05-02T17:56:28.361069Z",
          "iopub.status.busy": "2022-05-02T17:56:28.360710Z",
          "iopub.status.idle": "2022-05-02T17:56:28.382375Z",
          "shell.execute_reply": "2022-05-02T17:56:28.381457Z"
        },
        "id": "60f4c92c",
        "outputId": "fc8dcca2-47eb-4c73-bc10-51985231044f",
        "papermill": {
          "duration": 0.041774,
          "end_time": "2022-05-02T17:56:28.384496",
          "exception": false,
          "start_time": "2022-05-02T17:56:28.342722",
          "status": "completed"
        },
        "tags": [],
        "colab": {
          "base_uri": "https://localhost:8080/",
          "height": 36
        }
      },
      "outputs": [
        {
          "output_type": "execute_result",
          "data": {
            "text/plain": [
              "'Prediction is English'"
            ],
            "application/vnd.google.colaboratory.intrinsic+json": {
              "type": "string"
            }
          },
          "metadata": {},
          "execution_count": 12
        }
      ],
      "source": [
        "#Data of Prediction\n",
        "text = \"\"\"Myself Prateek Dutta. I am an Author & Research scholar from India pursuing B.Tech in Artificial Intelligence. \"\"\"\n",
        "\n",
        "text = [text]\n",
        "\n",
        "text_counts = X_CountVectorizer.transform(text)\n",
        "\n",
        "#Prediction Processing\n",
        "prediction = model.predict(text_counts)\n",
        "\n",
        "f\"Prediction is {prediction[0]}\""
      ]
    },
    {
      "cell_type": "code",
      "execution_count": 13,
      "id": "1e16bb2b",
      "metadata": {
        "execution": {
          "iopub.execute_input": "2022-05-02T17:56:28.455820Z",
          "iopub.status.busy": "2022-05-02T17:56:28.455554Z",
          "iopub.status.idle": "2022-05-02T17:56:28.477790Z",
          "shell.execute_reply": "2022-05-02T17:56:28.476717Z"
        },
        "papermill": {
          "duration": 0.043356,
          "end_time": "2022-05-02T17:56:28.480188",
          "exception": false,
          "start_time": "2022-05-02T17:56:28.436832",
          "status": "completed"
        },
        "tags": [],
        "id": "1e16bb2b",
        "outputId": "35f0adda-ec63-433f-e243-3afda9fc0bc3",
        "colab": {
          "base_uri": "https://localhost:8080/",
          "height": 36
        }
      },
      "outputs": [
        {
          "output_type": "execute_result",
          "data": {
            "text/plain": [
              "'Prediction is Turkish'"
            ],
            "application/vnd.google.colaboratory.intrinsic+json": {
              "type": "string"
            }
          },
          "metadata": {},
          "execution_count": 13
        }
      ],
      "source": [
        "#Data of Prediction\n",
        "text = \"\"\"Kendim Prateek Dutta. Yapay Zeka alanında B.Tech'i takip eden Hindistan'dan bir Yazar ve Araştırma bilginiyim.\"\"\"\n",
        "\n",
        "text = [text]\n",
        "\n",
        "text_counts = X_CountVectorizer.transform(text)\n",
        "\n",
        "#Prediction Processing\n",
        "prediction = model.predict(text_counts)\n",
        "\n",
        "f\"Prediction is {prediction[0]}\""
      ]
    },
    {
      "cell_type": "code",
      "source": [
        ""
      ],
      "metadata": {
        "id": "T4SbBXoxbhp-"
      },
      "id": "T4SbBXoxbhp-",
      "execution_count": null,
      "outputs": []
    }
  ],
  "metadata": {
    "kernelspec": {
      "display_name": "Python 3",
      "language": "python",
      "name": "python3"
    },
    "language_info": {
      "codemirror_mode": {
        "name": "ipython",
        "version": 3
      },
      "file_extension": ".py",
      "mimetype": "text/x-python",
      "name": "python",
      "nbconvert_exporter": "python",
      "pygments_lexer": "ipython3",
      "version": "3.7.12"
    },
    "papermill": {
      "default_parameters": {},
      "duration": 31.480013,
      "end_time": "2022-05-02T17:56:29.323203",
      "environment_variables": {},
      "exception": null,
      "input_path": "__notebook__.ipynb",
      "output_path": "__notebook__.ipynb",
      "parameters": {},
      "start_time": "2022-05-02T17:55:57.843190",
      "version": "2.3.4"
    },
    "colab": {
      "name": "Language Detection AI.ipynb",
      "provenance": []
    }
  },
  "nbformat": 4,
  "nbformat_minor": 5
}